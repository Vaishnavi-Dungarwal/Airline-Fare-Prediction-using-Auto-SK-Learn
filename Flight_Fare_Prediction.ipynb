{
  "nbformat": 4,
  "nbformat_minor": 5,
  "metadata": {
    "kernelspec": {
      "display_name": "Python 3",
      "language": "python",
      "name": "python3"
    },
    "language_info": {
      "codemirror_mode": {
        "name": "ipython",
        "version": 3
      },
      "file_extension": ".py",
      "mimetype": "text/x-python",
      "name": "python",
      "nbconvert_exporter": "python",
      "pygments_lexer": "ipython3",
      "version": "3.8.8"
    },
    "colab": {
      "provenance": [],
      "collapsed_sections": [
        "8d3b4af4",
        "2337bcef",
        "35289b3c"
      ]
    }
  },
  "cells": [
    {
      "cell_type": "code",
      "metadata": {
        "id": "764cf35c"
      },
      "source": [
        "import pandas as pd\n",
        "import numpy as np\n",
        "import matplotlib.pyplot as plt\n",
        "%matplotlib inline\n",
        "import seaborn as sns"
      ],
      "id": "764cf35c",
      "execution_count": null,
      "outputs": []
    },
    {
      "cell_type": "code",
      "metadata": {
        "id": "0e6fe1f7"
      },
      "source": [
        "df= pd.read_csv(\"/content/drive/MyDrive/flight data.csv\")"
      ],
      "id": "0e6fe1f7",
      "execution_count": null,
      "outputs": []
    },
    {
      "cell_type": "code",
      "metadata": {
        "id": "0378a680"
      },
      "source": [
        "df.head()"
      ],
      "id": "0378a680",
      "execution_count": null,
      "outputs": []
    },
    {
      "cell_type": "code",
      "metadata": {
        "id": "54fc1c9c"
      },
      "source": [
        "df.shape"
      ],
      "id": "54fc1c9c",
      "execution_count": null,
      "outputs": []
    },
    {
      "cell_type": "code",
      "metadata": {
        "id": "5ee24e9a"
      },
      "source": [
        "df1= pd.read_csv(\"/content/drive/MyDrive/flight test.csv\")"
      ],
      "id": "5ee24e9a",
      "execution_count": null,
      "outputs": []
    },
    {
      "cell_type": "code",
      "metadata": {
        "id": "46538d88"
      },
      "source": [
        "df1.head()"
      ],
      "id": "46538d88",
      "execution_count": null,
      "outputs": []
    },
    {
      "cell_type": "code",
      "metadata": {
        "id": "e87f7e7a"
      },
      "source": [
        "df1.shape"
      ],
      "id": "e87f7e7a",
      "execution_count": null,
      "outputs": []
    },
    {
      "cell_type": "code",
      "metadata": {
        "id": "feddbe73"
      },
      "source": [
        "total_df= df.append(df1,sort= False)"
      ],
      "id": "feddbe73",
      "execution_count": null,
      "outputs": []
    },
    {
      "cell_type": "code",
      "metadata": {
        "id": "21f8346b"
      },
      "source": [
        "total_df.tail()"
      ],
      "id": "21f8346b",
      "execution_count": null,
      "outputs": []
    },
    {
      "cell_type": "code",
      "metadata": {
        "id": "a89da9b1"
      },
      "source": [
        "total_df.head()"
      ],
      "id": "a89da9b1",
      "execution_count": null,
      "outputs": []
    },
    {
      "cell_type": "code",
      "metadata": {
        "id": "567bac47"
      },
      "source": [
        "total_df.shape"
      ],
      "id": "567bac47",
      "execution_count": null,
      "outputs": []
    },
    {
      "cell_type": "markdown",
      "metadata": {
        "id": "8d3b4af4"
      },
      "source": [
        "#### Size of training set: 10683 records\n",
        "\n",
        "#### Size of test set: 2671 records\n",
        "\n",
        "### FEATURES:\n",
        "\n",
        "#### Airline: The name of the airline.\n",
        "\n",
        "#### Date_of_Journey: The date of the journey\n",
        "\n",
        "#### Source: The source from which the service begins.\n",
        "\n",
        "#### Destination: The destination where the service ends.\n",
        "\n",
        "#### Route: The route taken by the flight to reach the destination.\n",
        "\n",
        "#### Dep_Time: The time when the journey starts from the source.\n",
        "\n",
        "#### Arrival_Time: Time of arrival at the destination.\n",
        "\n",
        "#### Duration: Total duration of the flight.\n",
        "\n",
        "#### Total_Stops: Total stops between the source and destination.\n",
        "\n",
        "#### Additional_Info: Additional information about the flight\n",
        "\n",
        "#### Price: The price of the ticket"
      ],
      "id": "8d3b4af4"
    },
    {
      "cell_type": "code",
      "metadata": {
        "id": "1d109672"
      },
      "source": [
        "df['Airline'].value_counts() ## checking for airline data"
      ],
      "id": "1d109672",
      "execution_count": null,
      "outputs": []
    },
    {
      "cell_type": "code",
      "metadata": {
        "id": "bcff41da"
      },
      "source": [
        "sns.catplot(y='Price',x='Airline',data= df.sort_values('Price',ascending=False),kind=\"boxen\",height=6, aspect=3)\n",
        "plt.show"
      ],
      "id": "bcff41da",
      "execution_count": null,
      "outputs": []
    },
    {
      "cell_type": "code",
      "metadata": {
        "id": "fd73a7af"
      },
      "source": [
        "df['Source'].value_counts() ## checking for Source"
      ],
      "id": "fd73a7af",
      "execution_count": null,
      "outputs": []
    },
    {
      "cell_type": "code",
      "metadata": {
        "id": "8bc3059c"
      },
      "source": [
        "sns.catplot(y='Price',x='Source',data= df.sort_values('Price',ascending=False),kind=\"boxen\",height=6, aspect=3)\n",
        "plt.show"
      ],
      "id": "8bc3059c",
      "execution_count": null,
      "outputs": []
    },
    {
      "cell_type": "code",
      "metadata": {
        "id": "50887e37"
      },
      "source": [
        "df['Destination'].value_counts() ## checking for Destination"
      ],
      "id": "50887e37",
      "execution_count": null,
      "outputs": []
    },
    {
      "cell_type": "code",
      "metadata": {
        "id": "13311f85"
      },
      "source": [
        "sns.catplot(y='Price',x='Destination',data= df.sort_values('Price',ascending=False),kind=\"boxen\",height=6, aspect=3)\n",
        "plt.show"
      ],
      "id": "13311f85",
      "execution_count": null,
      "outputs": []
    },
    {
      "cell_type": "code",
      "metadata": {
        "id": "c8802e9b"
      },
      "source": [
        "df['Duration'].value_counts()"
      ],
      "id": "c8802e9b",
      "execution_count": null,
      "outputs": []
    },
    {
      "cell_type": "code",
      "metadata": {
        "id": "58a0180a"
      },
      "source": [
        "total_df['Date']=total_df['Date_of_Journey'].str.split('/').str[0]\n",
        "total_df['Month']=total_df['Date_of_Journey'].str.split('/').str[1]\n",
        "total_df['Year']=total_df['Date_of_Journey'].str.split('/').str[2]"
      ],
      "id": "58a0180a",
      "execution_count": null,
      "outputs": []
    },
    {
      "cell_type": "code",
      "metadata": {
        "id": "3e2edca8"
      },
      "source": [
        "total_df.head()"
      ],
      "id": "3e2edca8",
      "execution_count": null,
      "outputs": []
    },
    {
      "cell_type": "code",
      "metadata": {
        "id": "ac141cfc"
      },
      "source": [
        "total_df=total_df.drop(['Date_of_Journey'],axis=1)"
      ],
      "id": "ac141cfc",
      "execution_count": null,
      "outputs": []
    },
    {
      "cell_type": "code",
      "metadata": {
        "id": "f46a34a9"
      },
      "source": [
        "total_df.dtypes"
      ],
      "id": "f46a34a9",
      "execution_count": null,
      "outputs": []
    },
    {
      "cell_type": "code",
      "metadata": {
        "id": "6f9fbab3"
      },
      "source": [
        "total_df['Date']=total_df['Date'].astype(int)\n",
        "total_df['Month']=total_df['Month'].astype(int)\n",
        "total_df['Year']=total_df['Year'].astype(int)"
      ],
      "id": "6f9fbab3",
      "execution_count": null,
      "outputs": []
    },
    {
      "cell_type": "code",
      "metadata": {
        "id": "97d6e70b"
      },
      "source": [
        "total_df.dtypes"
      ],
      "id": "97d6e70b",
      "execution_count": null,
      "outputs": []
    },
    {
      "cell_type": "code",
      "metadata": {
        "id": "51a5bfb5"
      },
      "source": [
        "total_df.head()"
      ],
      "id": "51a5bfb5",
      "execution_count": null,
      "outputs": []
    },
    {
      "cell_type": "code",
      "metadata": {
        "id": "bd294f7b"
      },
      "source": [
        "total_df['Additional_Info'].value_counts()"
      ],
      "id": "bd294f7b",
      "execution_count": null,
      "outputs": []
    },
    {
      "cell_type": "code",
      "metadata": {
        "id": "03cc9780"
      },
      "source": [
        "sns.catplot(y='Price',x='Additional_Info',data= df.sort_values('Price',ascending=False),kind=\"boxen\",height=6, aspect=3)\n",
        "plt.show"
      ],
      "id": "03cc9780",
      "execution_count": null,
      "outputs": []
    },
    {
      "cell_type": "code",
      "metadata": {
        "id": "c17ebd9e"
      },
      "source": [
        "total_df['Arrival_Time']=total_df['Arrival_Time'].str.split(' ').str[0]"
      ],
      "id": "c17ebd9e",
      "execution_count": null,
      "outputs": []
    },
    {
      "cell_type": "code",
      "metadata": {
        "id": "1db38991"
      },
      "source": [
        "total_df.head()"
      ],
      "id": "1db38991",
      "execution_count": null,
      "outputs": []
    },
    {
      "cell_type": "code",
      "metadata": {
        "id": "b2a4f88b"
      },
      "source": [
        "total_df['Total_Stops'].value_counts()"
      ],
      "id": "b2a4f88b",
      "execution_count": null,
      "outputs": []
    },
    {
      "cell_type": "code",
      "metadata": {
        "id": "dd64da25"
      },
      "source": [
        "total_df['Total_Stops']=total_df['Total_Stops'].fillna('1 stop')"
      ],
      "id": "dd64da25",
      "execution_count": null,
      "outputs": []
    },
    {
      "cell_type": "code",
      "metadata": {
        "id": "4ae59ad9"
      },
      "source": [
        "total_df['Total_Stops'].isnull().sum()"
      ],
      "id": "4ae59ad9",
      "execution_count": null,
      "outputs": []
    },
    {
      "cell_type": "code",
      "metadata": {
        "id": "951f9a5e"
      },
      "source": [
        "total_df['Total_Stops']=total_df['Total_Stops'].replace('non-stop','0 stop')"
      ],
      "id": "951f9a5e",
      "execution_count": null,
      "outputs": []
    },
    {
      "cell_type": "code",
      "metadata": {
        "id": "ce044a5a"
      },
      "source": [
        "total_df.head()"
      ],
      "id": "ce044a5a",
      "execution_count": null,
      "outputs": []
    },
    {
      "cell_type": "code",
      "metadata": {
        "id": "f3a42ce8"
      },
      "source": [
        "total_df['Stop'] = total_df['Total_Stops'].str.split(' ').str[0]"
      ],
      "id": "f3a42ce8",
      "execution_count": null,
      "outputs": []
    },
    {
      "cell_type": "code",
      "metadata": {
        "id": "9c5cea6f"
      },
      "source": [
        "total_df.head()"
      ],
      "id": "9c5cea6f",
      "execution_count": null,
      "outputs": []
    },
    {
      "cell_type": "code",
      "metadata": {
        "id": "5f07cbee"
      },
      "source": [
        "total_df=total_df.drop(['Total_Stops'],axis=1)"
      ],
      "id": "5f07cbee",
      "execution_count": null,
      "outputs": []
    },
    {
      "cell_type": "code",
      "metadata": {
        "id": "96c7a6e3"
      },
      "source": [
        "total_df.head()"
      ],
      "id": "96c7a6e3",
      "execution_count": null,
      "outputs": []
    },
    {
      "cell_type": "code",
      "metadata": {
        "id": "146ea9a3"
      },
      "source": [
        "total_df.dtypes"
      ],
      "id": "146ea9a3",
      "execution_count": null,
      "outputs": []
    },
    {
      "cell_type": "code",
      "metadata": {
        "id": "f9110ca0"
      },
      "source": [
        "total_df['Stop']=total_df['Stop'].astype(int)"
      ],
      "id": "f9110ca0",
      "execution_count": null,
      "outputs": []
    },
    {
      "cell_type": "code",
      "metadata": {
        "id": "68c500fb"
      },
      "source": [
        "total_df.dtypes"
      ],
      "id": "68c500fb",
      "execution_count": null,
      "outputs": []
    },
    {
      "cell_type": "code",
      "metadata": {
        "id": "c865904c"
      },
      "source": [
        "total_df['Arrival_Hour'] = total_df['Arrival_Time'] .str.split(':').str[0]\n",
        "total_df['Arrival_Minute'] = total_df['Arrival_Time'] .str.split(':').str[1]"
      ],
      "id": "c865904c",
      "execution_count": null,
      "outputs": []
    },
    {
      "cell_type": "code",
      "metadata": {
        "id": "5455f87c"
      },
      "source": [
        "total_df['Arrival_Hour']=total_df['Arrival_Hour'].astype(int)\n",
        "total_df['Arrival_Minute']=total_df['Arrival_Minute'].astype(int)\n",
        "total_df=total_df.drop(['Arrival_Time'],axis=1)"
      ],
      "id": "5455f87c",
      "execution_count": null,
      "outputs": []
    },
    {
      "cell_type": "code",
      "metadata": {
        "id": "afe984e0"
      },
      "source": [
        "total_df.head()"
      ],
      "id": "afe984e0",
      "execution_count": null,
      "outputs": []
    },
    {
      "cell_type": "code",
      "metadata": {
        "id": "de7bc2cf"
      },
      "source": [
        "total_df['Departure_Hour'] = total_df['Dep_Time'] .str.split(':').str[0]\n",
        "total_df['Departure_Minute'] = total_df['Dep_Time'] .str.split(':').str[1]"
      ],
      "id": "de7bc2cf",
      "execution_count": null,
      "outputs": []
    },
    {
      "cell_type": "code",
      "metadata": {
        "id": "cdcf2456"
      },
      "source": [
        "total_df['Departure_Hour']=total_df['Departure_Hour'].astype(int)\n",
        "total_df['Departure_Minute']=total_df['Departure_Minute'].astype(int)\n",
        "total_df=total_df.drop(['Dep_Time'],axis=1)"
      ],
      "id": "cdcf2456",
      "execution_count": null,
      "outputs": []
    },
    {
      "cell_type": "code",
      "metadata": {
        "id": "23ed1fbe"
      },
      "source": [
        "total_df.head()"
      ],
      "id": "23ed1fbe",
      "execution_count": null,
      "outputs": []
    },
    {
      "cell_type": "code",
      "metadata": {
        "id": "69c1e568"
      },
      "source": [
        "total_df['Route_1']= total_df['Route'].str.split('→ ').str[0]\n",
        "total_df['Route_2']= total_df['Route'].str.split('→ ').str[1]\n",
        "total_df['Route_3']= total_df['Route'].str.split('→ ').str[2]\n",
        "total_df['Route_4']= total_df['Route'].str.split('→ ').str[3]\n",
        "total_df['Route_5']= total_df['Route'].str.split('→ ').str[4]"
      ],
      "id": "69c1e568",
      "execution_count": null,
      "outputs": []
    },
    {
      "cell_type": "code",
      "metadata": {
        "id": "d8cd4cc9"
      },
      "source": [
        "total_df['Route_1'].fillna(\"None\",inplace=True)\n",
        "total_df['Route_2'].fillna(\"None\",inplace=True)\n",
        "total_df['Route_3'].fillna(\"None\",inplace=True)\n",
        "total_df['Route_4'].fillna(\"None\",inplace=True)\n",
        "total_df['Route_5'].fillna(\"None\",inplace=True)"
      ],
      "id": "d8cd4cc9",
      "execution_count": null,
      "outputs": []
    },
    {
      "cell_type": "code",
      "metadata": {
        "id": "d338a750"
      },
      "source": [
        "total_df.head()"
      ],
      "id": "d338a750",
      "execution_count": null,
      "outputs": []
    },
    {
      "cell_type": "code",
      "metadata": {
        "id": "c3ec1f73"
      },
      "source": [
        "total_df=total_df.drop(['Route'],axis=1)\n",
        "total_df=total_df.drop(['Duration'],axis=1)"
      ],
      "id": "c3ec1f73",
      "execution_count": null,
      "outputs": []
    },
    {
      "cell_type": "code",
      "metadata": {
        "id": "f9ef1bf5"
      },
      "source": [
        "total_df.head()"
      ],
      "id": "f9ef1bf5",
      "execution_count": null,
      "outputs": []
    },
    {
      "cell_type": "code",
      "metadata": {
        "id": "ccbd025b"
      },
      "source": [
        "total_df.isnull().sum()"
      ],
      "id": "ccbd025b",
      "execution_count": null,
      "outputs": []
    },
    {
      "cell_type": "code",
      "metadata": {
        "id": "475d195a"
      },
      "source": [
        "total_df['Price'].fillna((total_df['Price'].mean()),inplace=True)"
      ],
      "id": "475d195a",
      "execution_count": null,
      "outputs": []
    },
    {
      "cell_type": "code",
      "metadata": {
        "id": "90aa8b40"
      },
      "source": [
        "total_df.isnull().sum()"
      ],
      "id": "90aa8b40",
      "execution_count": null,
      "outputs": []
    },
    {
      "cell_type": "code",
      "metadata": {
        "id": "507ae6ba"
      },
      "source": [
        "total_df.head()"
      ],
      "id": "507ae6ba",
      "execution_count": null,
      "outputs": []
    },
    {
      "cell_type": "code",
      "metadata": {
        "id": "efd63cd8"
      },
      "source": [
        "from sklearn.preprocessing import LabelEncoder"
      ],
      "id": "efd63cd8",
      "execution_count": null,
      "outputs": []
    },
    {
      "cell_type": "code",
      "metadata": {
        "id": "576e7107"
      },
      "source": [
        "le= LabelEncoder()"
      ],
      "id": "576e7107",
      "execution_count": null,
      "outputs": []
    },
    {
      "cell_type": "code",
      "metadata": {
        "id": "5ebed5f4"
      },
      "source": [
        "total_df[\"Airline\"]=le.fit_transform(total_df['Airline'])\n",
        "total_df[\"Source\"]=le.fit_transform(total_df['Source'])\n",
        "total_df[\"Destination\"]=le.fit_transform(total_df['Destination'])\n",
        "total_df[\"Additional_Info\"]=le.fit_transform(total_df['Additional_Info'])\n",
        "total_df[\"Route_1\"]=le.fit_transform(total_df['Route_1'])\n",
        "total_df[\"Route_2\"]=le.fit_transform(total_df['Route_2'])\n",
        "total_df[\"Route_3\"]=le.fit_transform(total_df['Route_3'])\n",
        "total_df[\"Route_4\"]=le.fit_transform(total_df['Route_4'])\n",
        "total_df[\"Route_5\"]=le.fit_transform(total_df['Route_5'])"
      ],
      "id": "5ebed5f4",
      "execution_count": null,
      "outputs": []
    },
    {
      "cell_type": "code",
      "metadata": {
        "id": "528e418b"
      },
      "source": [
        "total_df.head()"
      ],
      "id": "528e418b",
      "execution_count": null,
      "outputs": []
    },
    {
      "cell_type": "code",
      "metadata": {
        "id": "b8cc2612"
      },
      "source": [
        "total_df= total_df.drop(['Year'], axis=1)"
      ],
      "id": "b8cc2612",
      "execution_count": null,
      "outputs": []
    },
    {
      "cell_type": "code",
      "metadata": {
        "id": "6770dbb9"
      },
      "source": [
        "total_df.head()"
      ],
      "id": "6770dbb9",
      "execution_count": null,
      "outputs": []
    },
    {
      "cell_type": "code",
      "metadata": {
        "id": "0955341e"
      },
      "source": [
        "x= total_df.drop(['Price'],axis=1)\n",
        "y= total_df['Price']"
      ],
      "id": "0955341e",
      "execution_count": null,
      "outputs": []
    },
    {
      "cell_type": "code",
      "metadata": {
        "id": "ec701abd"
      },
      "source": [
        "x.head()"
      ],
      "id": "ec701abd",
      "execution_count": null,
      "outputs": []
    },
    {
      "cell_type": "code",
      "metadata": {
        "id": "2ecacef2"
      },
      "source": [
        "y.head()"
      ],
      "id": "2ecacef2",
      "execution_count": null,
      "outputs": []
    },
    {
      "cell_type": "code",
      "metadata": {
        "id": "266b67fd"
      },
      "source": [
        "from sklearn.linear_model import Lasso\n",
        "from sklearn.feature_selection import SelectFromModel"
      ],
      "id": "266b67fd",
      "execution_count": null,
      "outputs": []
    },
    {
      "cell_type": "code",
      "metadata": {
        "id": "46f380f0"
      },
      "source": [
        "from sklearn.model_selection import train_test_split\n",
        "x_train,x_test,y_train,y_test=train_test_split(x,y,test_size=0.3,random_state=0)"
      ],
      "id": "46f380f0",
      "execution_count": null,
      "outputs": []
    },
    {
      "cell_type": "code",
      "metadata": {
        "id": "aa88e24e"
      },
      "source": [
        "model=SelectFromModel(Lasso(alpha=0.005,random_state=0))"
      ],
      "id": "aa88e24e",
      "execution_count": null,
      "outputs": []
    },
    {
      "cell_type": "code",
      "metadata": {
        "id": "bb999c6c"
      },
      "source": [
        "model.fit(x_train,y_train)"
      ],
      "id": "bb999c6c",
      "execution_count": null,
      "outputs": []
    },
    {
      "cell_type": "code",
      "metadata": {
        "id": "941d59a8"
      },
      "source": [
        "model.get_support()"
      ],
      "id": "941d59a8",
      "execution_count": null,
      "outputs": []
    },
    {
      "cell_type": "code",
      "metadata": {
        "id": "2635851a"
      },
      "source": [
        "selected_features=x_train.columns[(model.get_support())]"
      ],
      "id": "2635851a",
      "execution_count": null,
      "outputs": []
    },
    {
      "cell_type": "code",
      "metadata": {
        "id": "ece780ee"
      },
      "source": [
        "selected_features"
      ],
      "id": "ece780ee",
      "execution_count": null,
      "outputs": []
    },
    {
      "cell_type": "code",
      "metadata": {
        "id": "4f48ccad"
      },
      "source": [
        "from sklearn.ensemble import ExtraTreesRegressor"
      ],
      "id": "4f48ccad",
      "execution_count": null,
      "outputs": []
    },
    {
      "cell_type": "code",
      "metadata": {
        "id": "138693b0"
      },
      "source": [
        "etr = ExtraTreesRegressor()\n",
        "etr.fit(x_train,y_train)"
      ],
      "id": "138693b0",
      "execution_count": null,
      "outputs": []
    },
    {
      "cell_type": "code",
      "metadata": {
        "id": "30b1391d"
      },
      "source": [
        "plt.style.use(\"ggplot\")\n",
        "plt.figure(figsize = (15,8))\n",
        "feature_importances = pd.Series(etr.feature_importances_, index=x.columns)\n",
        "feature_importances.nlargest(35).plot(kind='bar')\n",
        "plt.show()"
      ],
      "id": "30b1391d",
      "execution_count": null,
      "outputs": []
    },
    {
      "cell_type": "code",
      "metadata": {
        "id": "7fd6aa13"
      },
      "source": [
        "from sklearn.ensemble import RandomForestRegressor\n",
        "reg_rf = RandomForestRegressor()\n",
        "reg_rf.fit(x_train, y_train)"
      ],
      "id": "7fd6aa13",
      "execution_count": null,
      "outputs": []
    },
    {
      "cell_type": "code",
      "metadata": {
        "id": "7e383e9e"
      },
      "source": [
        "y_pred = reg_rf.predict(x_test)"
      ],
      "id": "7e383e9e",
      "execution_count": null,
      "outputs": []
    },
    {
      "cell_type": "code",
      "metadata": {
        "id": "bae5c639"
      },
      "source": [
        "reg_rf.score(x_train, y_train)"
      ],
      "id": "bae5c639",
      "execution_count": null,
      "outputs": []
    },
    {
      "cell_type": "code",
      "metadata": {
        "id": "7a7ffb34"
      },
      "source": [
        "reg_rf.score(x_test, y_test)"
      ],
      "id": "7a7ffb34",
      "execution_count": null,
      "outputs": []
    },
    {
      "cell_type": "code",
      "metadata": {
        "id": "81231dc4"
      },
      "source": [
        "plt.style.use(\"ggplot\")\n",
        "plt.figure(figsize=(12,8))\n",
        "sns.distplot(y_test-y_pred)\n",
        "plt.show()"
      ],
      "id": "81231dc4",
      "execution_count": null,
      "outputs": []
    },
    {
      "cell_type": "code",
      "metadata": {
        "id": "c91a14be"
      },
      "source": [
        "plt.figure(figsize=(12,8))\n",
        "plt.style.use(\"ggplot\")\n",
        "plt.scatter(y_test, y_pred, alpha = 0.5)\n",
        "plt.xlabel(\"y_test\")\n",
        "plt.ylabel(\"y_pred\")\n",
        "plt.show()"
      ],
      "id": "c91a14be",
      "execution_count": null,
      "outputs": []
    },
    {
      "cell_type": "code",
      "metadata": {
        "id": "8c2b4bc7"
      },
      "source": [
        "from sklearn import metrics\n",
        "\n",
        "print('MAE:', metrics.mean_absolute_error(y_test, y_pred))\n",
        "print('MSE:', metrics.mean_squared_error(y_test, y_pred))\n",
        "print('RMSE:', np.sqrt(metrics.mean_squared_error(y_test, y_pred)))"
      ],
      "id": "8c2b4bc7",
      "execution_count": null,
      "outputs": []
    },
    {
      "cell_type": "code",
      "metadata": {
        "id": "fddf8aa0"
      },
      "source": [
        "metrics.r2_score(y_test, y_pred)"
      ],
      "id": "fddf8aa0",
      "execution_count": null,
      "outputs": []
    },
    {
      "cell_type": "code",
      "metadata": {
        "id": "0f90e488"
      },
      "source": [
        "from sklearn.model_selection import RandomizedSearchCV"
      ],
      "id": "0f90e488",
      "execution_count": null,
      "outputs": []
    },
    {
      "cell_type": "code",
      "metadata": {
        "id": "bca10775"
      },
      "source": [
        "# Number of trees in random forest\n",
        "n_estimators = [int(x) for x in np.linspace(start = 100, stop = 1500, num = 15)]\n",
        "# Number of features to consider at every split\n",
        "max_features = ['auto', 'sqrt']\n",
        "# Maximum number of levels in tree\n",
        "max_depth = [int(x) for x in np.linspace(5, 30, num = 6)]\n",
        "# Minimum number of samples required to split a node\n",
        "min_samples_split = [2, 3, 5, 7, 10, 15, 100]\n",
        "# Minimum number of samples required at each leaf node\n",
        "min_samples_leaf = [1, 2,3, 5,8, 10]"
      ],
      "id": "bca10775",
      "execution_count": null,
      "outputs": []
    },
    {
      "cell_type": "code",
      "metadata": {
        "id": "7c2645a8"
      },
      "source": [
        "param_grid = {'n_estimators': n_estimators,\n",
        "               'max_features': max_features,\n",
        "               'max_depth': max_depth,\n",
        "               'min_samples_split': min_samples_split,\n",
        "               'min_samples_leaf': min_samples_leaf}"
      ],
      "id": "7c2645a8",
      "execution_count": null,
      "outputs": []
    },
    {
      "cell_type": "code",
      "metadata": {
        "id": "1486e76a"
      },
      "source": [
        "rf_random = RandomizedSearchCV(estimator = reg_rf, param_distributions = param_grid,scoring='neg_mean_squared_error', n_iter = 50, cv = 5,\n",
        "                               verbose=2, random_state=42, n_jobs = 3)"
      ],
      "id": "1486e76a",
      "execution_count": null,
      "outputs": []
    },
    {
      "cell_type": "code",
      "metadata": {
        "id": "a9c321ce"
      },
      "source": [
        "rf_random.fit(x_train,y_train)"
      ],
      "id": "a9c321ce",
      "execution_count": null,
      "outputs": []
    },
    {
      "cell_type": "code",
      "metadata": {
        "id": "d0655797"
      },
      "source": [
        "rf_random.best_params_"
      ],
      "id": "d0655797",
      "execution_count": null,
      "outputs": []
    },
    {
      "cell_type": "code",
      "metadata": {
        "id": "5d81593d"
      },
      "source": [
        "reg_rf = RandomForestRegressor(n_estimators= 700,\n",
        " min_samples_split=3,\n",
        " min_samples_leaf= 1,\n",
        " max_features='sqrt',\n",
        " max_depth= 15)"
      ],
      "id": "5d81593d",
      "execution_count": null,
      "outputs": []
    },
    {
      "cell_type": "code",
      "metadata": {
        "id": "ac4c832d"
      },
      "source": [
        "reg_rf.fit(x_train,y_train)"
      ],
      "id": "ac4c832d",
      "execution_count": null,
      "outputs": []
    },
    {
      "cell_type": "code",
      "metadata": {
        "id": "6217f483"
      },
      "source": [
        "ypred1= reg_rf.predict(x_test)"
      ],
      "id": "6217f483",
      "execution_count": null,
      "outputs": []
    },
    {
      "cell_type": "code",
      "metadata": {
        "id": "4386770a"
      },
      "source": [
        "ypred1"
      ],
      "id": "4386770a",
      "execution_count": null,
      "outputs": []
    },
    {
      "cell_type": "code",
      "metadata": {
        "id": "e6f7ce2f"
      },
      "source": [
        "plt.style.use(\"ggplot\")\n",
        "plt.figure(figsize=(12,8))\n",
        "sns.distplot(y_test-ypred1)\n",
        "plt.show()"
      ],
      "id": "e6f7ce2f",
      "execution_count": null,
      "outputs": []
    },
    {
      "cell_type": "code",
      "metadata": {
        "id": "8b72a9ea"
      },
      "source": [
        "plt.figure(figsize=(12,8))\n",
        "plt.style.use(\"ggplot\")\n",
        "plt.scatter(y_test, ypred1, alpha = 0.5)\n",
        "plt.xlabel(\"y_test\")\n",
        "plt.ylabel(\"y_predq\")\n",
        "plt.show()"
      ],
      "id": "8b72a9ea",
      "execution_count": null,
      "outputs": []
    },
    {
      "cell_type": "code",
      "metadata": {
        "id": "a944efee"
      },
      "source": [
        "from sklearn import metrics\n",
        "\n",
        "print('MAE:', metrics.mean_absolute_error(y_test, ypred1))\n",
        "print('MSE:', metrics.mean_squared_error(y_test, ypred1))\n",
        "print('RMSE:', np.sqrt(metrics.mean_squared_error(y_test, ypred1)))"
      ],
      "id": "a944efee",
      "execution_count": null,
      "outputs": []
    },
    {
      "cell_type": "code",
      "metadata": {
        "id": "0ad65187"
      },
      "source": [
        "metrics.r2_score(y_test, ypred1)"
      ],
      "id": "0ad65187",
      "execution_count": null,
      "outputs": []
    },
    {
      "cell_type": "code",
      "metadata": {
        "id": "1f659789"
      },
      "source": [
        "!apt-get install swig -y\n",
        "!pip install Cython numpy\n",
        "!pip install auto-sklearn"
      ],
      "id": "1f659789",
      "execution_count": null,
      "outputs": []
    },
    {
      "cell_type": "code",
      "metadata": {
        "id": "46d11ce0"
      },
      "source": [
        "import autosklearn"
      ],
      "id": "46d11ce0",
      "execution_count": null,
      "outputs": []
    },
    {
      "cell_type": "code",
      "metadata": {
        "id": "357ff68b"
      },
      "source": [
        "import autosklearn.regression as reg"
      ],
      "id": "357ff68b",
      "execution_count": null,
      "outputs": []
    },
    {
      "cell_type": "code",
      "metadata": {
        "id": "FJgdO-Nhq6vs"
      },
      "source": [
        "from google.colab import drive\n",
        "drive.mount('/content/drive')"
      ],
      "id": "FJgdO-Nhq6vs",
      "execution_count": null,
      "outputs": []
    },
    {
      "cell_type": "code",
      "metadata": {
        "id": "1-n47u9Gq7OV"
      },
      "source": [
        "df= pd.read_csv(\"/content/drive/MyDrive/flight data.csv\")"
      ],
      "id": "1-n47u9Gq7OV",
      "execution_count": null,
      "outputs": []
    },
    {
      "cell_type": "code",
      "metadata": {
        "id": "qyL27lmmrOVX"
      },
      "source": [
        "df.head()"
      ],
      "id": "qyL27lmmrOVX",
      "execution_count": null,
      "outputs": []
    },
    {
      "cell_type": "code",
      "metadata": {
        "id": "FXC8v-PprS4I"
      },
      "source": [
        "df1= pd.read_csv(\"/content/drive/MyDrive/flight test.csv\")"
      ],
      "id": "FXC8v-PprS4I",
      "execution_count": null,
      "outputs": []
    },
    {
      "cell_type": "markdown",
      "metadata": {
        "id": "Sf7_WWwysxpB"
      },
      "source": [
        "We will use the same x_train and y_train data"
      ],
      "id": "Sf7_WWwysxpB"
    },
    {
      "cell_type": "code",
      "metadata": {
        "id": "FiqsmqIprzZJ"
      },
      "source": [
        "x_train"
      ],
      "id": "FiqsmqIprzZJ",
      "execution_count": null,
      "outputs": []
    },
    {
      "cell_type": "code",
      "metadata": {
        "id": "hMREOIdvs2Mn"
      },
      "source": [
        "automl = reg.AutoSklearnRegressor(time_left_for_this_task=120,per_run_time_limit=30)"
      ],
      "id": "hMREOIdvs2Mn",
      "execution_count": null,
      "outputs": []
    },
    {
      "cell_type": "code",
      "metadata": {
        "id": "wgis8r_NtG6b"
      },
      "source": [
        "automl.fit(x_train,y_train)"
      ],
      "id": "wgis8r_NtG6b",
      "execution_count": null,
      "outputs": []
    },
    {
      "cell_type": "code",
      "metadata": {
        "id": "hzsUqEs0vDlK"
      },
      "source": [
        "print(automl.leaderboard())"
      ],
      "id": "hzsUqEs0vDlK",
      "execution_count": null,
      "outputs": []
    },
    {
      "cell_type": "code",
      "metadata": {
        "id": "S9o3zz_hvIbb"
      },
      "source": [
        "print(automl.show_models())"
      ],
      "id": "S9o3zz_hvIbb",
      "execution_count": null,
      "outputs": []
    },
    {
      "cell_type": "code",
      "metadata": {
        "id": "ivPW9k9ttJ8A"
      },
      "source": [
        "ypred2= automl.predict(x_test)"
      ],
      "id": "ivPW9k9ttJ8A",
      "execution_count": null,
      "outputs": []
    },
    {
      "cell_type": "code",
      "metadata": {
        "id": "MPMipxt8t7s0"
      },
      "source": [
        "ypred2"
      ],
      "id": "MPMipxt8t7s0",
      "execution_count": null,
      "outputs": []
    },
    {
      "cell_type": "code",
      "metadata": {
        "id": "xwe9jXbEt9vg"
      },
      "source": [
        "plt.style.use(\"ggplot\")\n",
        "plt.figure(figsize=(12,8))\n",
        "sns.distplot(y_test-ypred2)\n",
        "plt.show()"
      ],
      "id": "xwe9jXbEt9vg",
      "execution_count": null,
      "outputs": []
    },
    {
      "cell_type": "code",
      "metadata": {
        "id": "khIQG32juMDU"
      },
      "source": [
        "plt.figure(figsize=(12,8))\n",
        "plt.style.use(\"ggplot\")\n",
        "plt.scatter(y_test, ypred2, alpha = 0.5)\n",
        "plt.xlabel(\"y_test\")\n",
        "plt.ylabel(\"ypred2\")\n",
        "plt.show()"
      ],
      "id": "khIQG32juMDU",
      "execution_count": null,
      "outputs": []
    },
    {
      "cell_type": "code",
      "metadata": {
        "id": "wzJHIRO6uRSn"
      },
      "source": [
        "from sklearn import metrics\n",
        "\n",
        "print('MAE:', metrics.mean_absolute_error(y_test, ypred2))\n",
        "print('MSE:', metrics.mean_squared_error(y_test, ypred2))\n",
        "print('RMSE:', np.sqrt(metrics.mean_squared_error(y_test, ypred2)))"
      ],
      "id": "wzJHIRO6uRSn",
      "execution_count": null,
      "outputs": []
    },
    {
      "cell_type": "code",
      "metadata": {
        "id": "fcmQW0NwxdCi"
      },
      "source": [],
      "id": "fcmQW0NwxdCi",
      "execution_count": null,
      "outputs": []
    }
  ]
}